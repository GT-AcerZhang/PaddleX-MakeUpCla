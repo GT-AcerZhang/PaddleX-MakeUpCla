{
 "cells": [
  {
   "cell_type": "markdown",
   "metadata": {
    "collapsed": false
   },
   "source": [
    "### 在原有的化妆品数据集外收集了100多张......卸妆水/油  \n",
    "#### （随你化，我都能卸...）  \n",
    "![](https://ai-studio-static-online.cdn.bcebos.com/b9b6fb64999d44259ec66cf1c55ccde744cc9716444c48e1b80c0823bc06aa84)  \n",
    "### 制作数据集  \n",
    "![](https://ai-studio-static-online.cdn.bcebos.com/c8bd513f1d814c8fb14e1407a16f19d16444488a03d446aabc6369674214e097)\n",
    "#### 改一下提供的splitdata.py就可以了，主要是在train_list, val_list, test_list后面添加“./xxx/xxx.jpg lableNum”格式的数据  \n",
    "![](https://ai-studio-static-online.cdn.bcebos.com/247ebef4d56c4609b675cff5e277f8b93a437d19869a4c4daaf438120cfbb016)"
   ]
  },
  {
   "cell_type": "markdown",
   "metadata": {
    "collapsed": false
   },
   "source": [
    "### 现在开始项目  \n",
    "### 选择数据库\n",
    "![](https://ai-studio-static-online.cdn.bcebos.com/0571e61be4114cffadb68cfdc3a54edbe27104fb0684481b86b039e344168573)  \n",
    "### 配置参数后，点击启动训练\n",
    "![](https://ai-studio-static-online.cdn.bcebos.com/461afa5663c5426d99d77858eacc07c5b6b1e20cb92441439b9fac698f364e09)  \n",
    "### 可视化 \n",
    "![](https://ai-studio-static-online.cdn.bcebos.com/5a44d6b50c33425e84880688aed99e38f6c6ff789cc94f57bfc1a8ae5b16676a)\n",
    "### 模型评估  \n",
    "![](https://ai-studio-static-online.cdn.bcebos.com/91e29e0bb7ca4f5b83048fe2954cabf62c14df83325d442a921b99ca0e627dca)\n",
    "### 预览测试图片\n",
    "![](https://ai-studio-static-online.cdn.bcebos.com/0817223bfdb540a999b6f2f773756a9aafeb0c4d7b3144189d96ce4759ab04ae)"
   ]
  },
  {
   "cell_type": "markdown",
   "metadata": {
    "collapsed": false
   },
   "source": [
    "### 总结：使用起来真是太方便了，已经到了失业边缘（笑:-））"
   ]
  }
 ],
 "metadata": {
  "kernelspec": {
   "display_name": "PaddlePaddle 1.7.2 (Python 3.5)",
   "language": "python",
   "name": "py35-paddle1.2.0"
  },
  "language_info": {
   "codemirror_mode": {
    "name": "ipython",
    "version": 3
   },
   "file_extension": ".py",
   "mimetype": "text/x-python",
   "name": "python",
   "nbconvert_exporter": "python",
   "pygments_lexer": "ipython3",
   "version": "3.7.4"
  }
 },
 "nbformat": 4,
 "nbformat_minor": 1
}
